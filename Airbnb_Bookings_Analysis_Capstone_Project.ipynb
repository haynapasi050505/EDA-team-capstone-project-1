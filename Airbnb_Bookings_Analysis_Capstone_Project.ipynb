{
  "nbformat": 4,
  "nbformat_minor": 0,
  "metadata": {
    "kernelspec": {
      "display_name": "Python 3",
      "language": "python",
      "name": "python3"
    },
    "language_info": {
      "codemirror_mode": {
        "name": "ipython",
        "version": 3
      },
      "file_extension": ".py",
      "mimetype": "text/x-python",
      "name": "python",
      "nbconvert_exporter": "python",
      "pygments_lexer": "ipython3",
      "version": "3.6.6"
    },
    "colab": {
      "name": "Airbnb Bookings Analysis - Capstone Project.ipynb",
      "provenance": [],
      "collapsed_sections": [],
      "include_colab_link": true
    }
  },
  "cells": [
    {
      "cell_type": "markdown",
      "metadata": {
        "id": "view-in-github",
        "colab_type": "text"
      },
      "source": [
        "<a href=\"https://colab.research.google.com/github/haynapasi050505/EDA-team-capstone-project-1/blob/main/Airbnb_Bookings_Analysis_Capstone_Project.ipynb\" target=\"_parent\"><img src=\"https://colab.research.google.com/assets/colab-badge.svg\" alt=\"Open In Colab\"/></a>"
      ]
    },
    {
      "cell_type": "markdown",
      "metadata": {
        "id": "Y06xIdG26kRF"
      },
      "source": [
        "## <b> Since 2008, guests and hosts have used Airbnb to expand on traveling possibilities and present a more unique, personalized way of experiencing the world. Today, Airbnb became one of a kind service that is used and recognized by the whole world. Data analysis on millions of listings provided through Airbnb is a crucial factor for the company. These millions of listings generate a lot of data - data that can be analyzed and used for security, business decisions, understanding of customers' and providers' (hosts) behavior and performance on the platform, guiding marketing initiatives, implementation of innovative additional services and much more. </b>\n",
        "\n",
        "## <b>This dataset has around 49,000 observations in it with 16 columns and it is a mix between categorical and numeric values. </b>\n",
        "\n",
        "## <b> Explore and analyze the data to discover key understandings (not limited to these) such as : \n",
        "* What can we learn about different hosts and areas?\n",
        "* What can we learn from predictions? (ex: locations, prices, reviews, etc)\n",
        "* Which hosts are the busiest and why?\n",
        "* Is there any noticeable difference of traffic among different areas and what could be the reason for it? </b>"
      ]
    },
    {
      "cell_type": "markdown",
      "metadata": {
        "id": "EwZLaH_jqckQ"
      },
      "source": [
        "**WHAT IS EXPLORATORY DATA ANALYSIS**\n",
        "A data exploration technique to understand the various aspects of the data and make conclusions about the given data.\n",
        "\n",
        "**LET'S HAVE LOOK ON SOME OBJECTIVES OF EDA**\n",
        "\n",
        "*  Filter the data from redundancies\n",
        "* Build relationships between the variables\n",
        "\n",
        "**STEPS INVOLVED IN EDA**\n",
        "*   Understand the data\n",
        "*   Clean the data\n",
        "*   Analysis of relationship between the variables\n",
        "\n",
        "\n",
        "\n",
        "\n",
        "\n",
        "\n",
        "\n"
      ]
    },
    {
      "cell_type": "markdown",
      "metadata": {
        "id": "8CLBRfpcxRld"
      },
      "source": [
        "**Vacation a single word is enough for the excitement we need**\n",
        "\n",
        "Who doesn't want to explore new places and get experianced about coolest things in our world. Our vacation and exploring new places is straight forward business to some industries. The industry that is closely related is **'Hotel Industry'**. These hotel industry closely depends on travellers. \n",
        "\n",
        "The cost of booking a hotel varies accounding to many facilities it provides and on the rating of the hotel.\n",
        "\n",
        "What if we could guess or be familiar with best time to book hotel at cheapest rates??\n",
        "\n",
        "What if hoteliers coluld guess when the demands for their hotels are likely to increase and when the demands would be low??? They could optimize their funds so much better.\n",
        "\n",
        "Let's dive into this data to see how many questions can we answer."
      ]
    },
    {
      "cell_type": "markdown",
      "source": [
        "## **Importing Libraries**\n",
        "\n"
      ],
      "metadata": {
        "id": "ATV_q0PIWkpM"
      }
    },
    {
      "cell_type": "code",
      "metadata": {
        "id": "dByMsuzT8Tnw"
      },
      "source": [
        "import numpy as np\n",
        "import pandas as pd\n",
        "import matplotlib.pyplot as plt\n",
        "import os\n",
        "import matplotlib.patches as mpatches\n",
        "import seaborn as sns\n",
        "import warnings\n",
        "from wordcloud import WordCloud\n",
        "warnings.filterwarnings('ignore')"
      ],
      "execution_count": null,
      "outputs": []
    },
    {
      "cell_type": "markdown",
      "source": [
        "## **Mounting Drive** **and load Data set**"
      ],
      "metadata": {
        "id": "-A0su9K_WwjJ"
      }
    },
    {
      "cell_type": "code",
      "source": [
        "from google.colab import drive\n",
        "drive.mount('/content/drive')"
      ],
      "metadata": {
        "id": "WGoMqDWNNBpM"
      },
      "execution_count": null,
      "outputs": []
    },
    {
      "cell_type": "code",
      "source": [
        "#from google.colab import drive\n",
        "#drive.mount('/content/drive')"
      ],
      "metadata": {
        "id": "rt1NdzLAksvQ"
      },
      "execution_count": null,
      "outputs": []
    },
    {
      "cell_type": "code",
      "source": [
        "dir_path = '/content/drive/MyDrive/Airbnb NYC 2019.csv'"
      ],
      "metadata": {
        "id": "jEXTqnH4k7sZ"
      },
      "execution_count": null,
      "outputs": []
    },
    {
      "cell_type": "code",
      "source": [
        "#df = pd.read_csv(dir_path)"
      ],
      "metadata": {
        "id": "Cl6dSm6M2miP"
      },
      "execution_count": null,
      "outputs": []
    },
    {
      "cell_type": "markdown",
      "source": [
        "## **Reading Airbnb Dataset**"
      ],
      "metadata": {
        "id": "kYaKBmRhW9Cv"
      }
    },
    {
      "cell_type": "code",
      "source": [
        "#dir_path = '/content/drive/MyDrive/almabetter/Copy of Airbnb NYC 2019.csv'"
      ],
      "metadata": {
        "id": "uWc58EQdSj3U"
      },
      "execution_count": null,
      "outputs": []
    },
    {
      "cell_type": "code",
      "source": [
        "df= pd.read_csv(dir_path)"
      ],
      "metadata": {
        "id": "1JhK6OlTN206"
      },
      "execution_count": null,
      "outputs": []
    },
    {
      "cell_type": "markdown",
      "source": [
        "## **Exploring Head and Tail parts of Dataset**"
      ],
      "metadata": {
        "id": "GKbNq6DyXFyN"
      }
    },
    {
      "cell_type": "code",
      "source": [
        "df.head()"
      ],
      "metadata": {
        "id": "oseVe0Idrtr1"
      },
      "execution_count": null,
      "outputs": []
    },
    {
      "cell_type": "code",
      "source": [
        "df.tail()"
      ],
      "metadata": {
        "id": "qBnuXrFQrwVL"
      },
      "execution_count": null,
      "outputs": []
    },
    {
      "cell_type": "markdown",
      "source": [
        "## **Looking into Shape of the Dataset**"
      ],
      "metadata": {
        "id": "pVy_chtzXPoT"
      }
    },
    {
      "cell_type": "code",
      "source": [
        "df.shape"
      ],
      "metadata": {
        "id": "FhYM__puOw4o"
      },
      "execution_count": null,
      "outputs": []
    },
    {
      "cell_type": "markdown",
      "source": [
        "## **Let's study about each variable in the dataset**"
      ],
      "metadata": {
        "id": "1-_Nu6o3XbuU"
      }
    },
    {
      "cell_type": "markdown",
      "source": [
        "This dataset has 48895 observations in it with 16 columns and it is a mix between categorical and numeric values.\n",
        "\n",
        "1. id : Column id is a unique column in the dataset\n",
        "2. name : This column contains the name of the listing.\n",
        "3. host_id : This column contains the host IDs of the various hosts. Each host has a unique host ID.\n",
        "4. host_name : This column contains the name of the hosts for a listing.\n",
        "5. neighbourhood_group : It is an categorical column containg different neighbourhood groups.\n",
        "6. neighbourhood : It is an categorical column containg the various neighbourhoods of a listing.\n",
        "7. lattitude : It is an numerical column containg the latitude of the geographical location of the listing.\n",
        "8. longitude : It is an numerical column containg the longitude of the geographical location of the listing.\n",
        "9. room_type : It is an categorical column containg different room types.\n",
        "10. price : This column contains the price of the listings.\n",
        "11. minimum_nights : It contains the minimum number of nights spend by tourists in a listing.\n",
        "12. number_of_reviews : This column shows how many reviews are there for a particular listings. \n",
        "13. last_review : This column contains the last date when the listing was reviewed. \n",
        "14. reviews_per_month : This column contains the number of reviews for a particular listing in a month.\n",
        "15. calculated_host_listings_count : This column shows number of listings of a particular host.\n",
        "16. avalaibility_365 : This column shows the avalaibilty of a listing on yearly basis."
      ],
      "metadata": {
        "id": "WK82EB_qnLeR"
      }
    },
    {
      "cell_type": "code",
      "source": [
        "df.columns"
      ],
      "metadata": {
        "id": "rlql9ONCO0jD"
      },
      "execution_count": null,
      "outputs": []
    },
    {
      "cell_type": "markdown",
      "source": [
        "## **Let's have some info about null values count and datatypes of variables**"
      ],
      "metadata": {
        "id": "QBX2t2XPXk0G"
      }
    },
    {
      "cell_type": "code",
      "source": [
        "df.info()"
      ],
      "metadata": {
        "id": "jiEvhF1LPHuh"
      },
      "execution_count": null,
      "outputs": []
    },
    {
      "cell_type": "markdown",
      "source": [
        "## **Glance on summary of numeric variables**"
      ],
      "metadata": {
        "id": "6ex_bz00X3X-"
      }
    },
    {
      "cell_type": "code",
      "source": [
        "df.describe()"
      ],
      "metadata": {
        "id": "-sXyuV7IPCiJ"
      },
      "execution_count": null,
      "outputs": []
    },
    {
      "cell_type": "markdown",
      "source": [
        "## <b>Checking the duplicate value and removing it if any"
      ],
      "metadata": {
        "id": "clIKhNJP8GU3"
      }
    },
    {
      "cell_type": "code",
      "source": [
        "#checking for duplicate values\n",
        "df.duplicated().sum()\n",
        "df.drop_duplicates(inplace=True)"
      ],
      "metadata": {
        "id": "xUmDTuYfVe4U"
      },
      "execution_count": null,
      "outputs": []
    },
    {
      "cell_type": "markdown",
      "source": [
        "## **Check for missing values**\n"
      ],
      "metadata": {
        "id": "3U4hJrMtbQb2"
      }
    },
    {
      "cell_type": "code",
      "source": [
        "df.isnull().sum()"
      ],
      "metadata": {
        "id": "lZUl8z2pR1Gw"
      },
      "execution_count": null,
      "outputs": []
    },
    {
      "cell_type": "markdown",
      "source": [
        "It is showing that we have 12 null values in 'name and 16  in 'host_name', 10052 in last_review and 10052 in reviews_per_month\n"
      ],
      "metadata": {
        "id": "AkI3jRLVYEC3"
      }
    },
    {
      "cell_type": "markdown",
      "source": [
        "**Visualizing the missing values**\n",
        "\n",
        "with the help of heat map , we can see the amount of data is missing from the attribute. With this , we can make decisions whether to drop these missing values or to replace them.But dropping the missing values is not advisable but sometimes it may be helpful too."
      ],
      "metadata": {
        "id": "aIXK5orgarEt"
      }
    },
    {
      "cell_type": "code",
      "source": [
        "#spread of missing values\n",
        "sns.heatmap(df.isnull() ,cbar = False , cmap = 'viridis')"
      ],
      "metadata": {
        "id": "iSk1ZKEtZAtc"
      },
      "execution_count": null,
      "outputs": []
    },
    {
      "cell_type": "markdown",
      "source": [
        "Now we can see that there are many missing values in last_reviews and reviews_per_month. we cant drop these columns as it is vary important for our prediction."
      ],
      "metadata": {
        "id": "QEOhP9BTaZd-"
      }
    },
    {
      "cell_type": "code",
      "source": [
        "df.dtypes"
      ],
      "metadata": {
        "id": "e69COhdrr8xn"
      },
      "execution_count": null,
      "outputs": []
    },
    {
      "cell_type": "code",
      "source": [
        "# dropping rows with missing values in name and host_name column\n",
        "df.dropna(subset=['name'],inplace = True)\n",
        "df.dropna(subset=['host_name'],inplace = True)"
      ],
      "metadata": {
        "id": "mMIWpqAEp7Zw"
      },
      "execution_count": null,
      "outputs": []
    },
    {
      "cell_type": "code",
      "source": [
        "# filling missing values of last_review variable with mode\n",
        "df.fillna(df['last_review'].mode()[0], inplace = True)"
      ],
      "metadata": {
        "id": "dYbK_tho69TQ"
      },
      "execution_count": null,
      "outputs": []
    },
    {
      "cell_type": "code",
      "source": [
        "df.isnull().sum()"
      ],
      "metadata": {
        "id": "4oEyg_G4iVi3"
      },
      "execution_count": null,
      "outputs": []
    },
    {
      "cell_type": "markdown",
      "source": [
        "## **Checking for outliers**"
      ],
      "metadata": {
        "id": "I9DwhICbxHvG"
      }
    },
    {
      "cell_type": "code",
      "source": [
        "#checking for outliers in price column\n",
        "sns.boxplot(x=df['price'])\n",
        "plt.show()"
      ],
      "metadata": {
        "id": "lVVpQrrDxNnS"
      },
      "execution_count": null,
      "outputs": []
    },
    {
      "cell_type": "code",
      "source": [
        "sns.displot(df['price'])\n",
        "plt.show()"
      ],
      "metadata": {
        "id": "6MadUch4yAOe"
      },
      "execution_count": null,
      "outputs": []
    },
    {
      "cell_type": "markdown",
      "source": [
        "## **we can observe that the minimum price is zero that is unjustified**"
      ],
      "metadata": {
        "id": "fEUsT-gnNW0W"
      }
    },
    {
      "cell_type": "code",
      "source": [
        "#checking the number of rows with price = 0 \n",
        "len(df[df['price'] ==0])"
      ],
      "metadata": {
        "id": "t0oHMk7tM8kz"
      },
      "execution_count": null,
      "outputs": []
    },
    {
      "cell_type": "code",
      "source": [
        "# as the prices of these Airbnb's are zero these are unjustified also their number is insignificant in the analysis \n",
        "df = df[df['price']!= 0]"
      ],
      "metadata": {
        "id": "3fqdjfW9NauV"
      },
      "execution_count": null,
      "outputs": []
    },
    {
      "cell_type": "code",
      "source": [
        "df.describe()"
      ],
      "metadata": {
        "id": "MKHqSgk9z5R5"
      },
      "execution_count": null,
      "outputs": []
    },
    {
      "cell_type": "markdown",
      "source": [
        "## **Dropping unnecessary columns**"
      ],
      "metadata": {
        "id": "DGyPlO_wYc-k"
      }
    },
    {
      "cell_type": "code",
      "source": [
        "df.drop([ 'host_name' ] , axis = 1 ,inplace = True)\n",
        "df.head()\n"
      ],
      "metadata": {
        "id": "9m_sa-fWzlbS"
      },
      "execution_count": null,
      "outputs": []
    },
    {
      "cell_type": "code",
      "source": [
        "sns.displot(df['price']);"
      ],
      "metadata": {
        "id": "JiC-htLULIDU"
      },
      "execution_count": null,
      "outputs": []
    },
    {
      "cell_type": "markdown",
      "source": [
        "## **Look into corelation between variables**"
      ],
      "metadata": {
        "id": "hBBHm7Q9aHR8"
      }
    },
    {
      "cell_type": "code",
      "source": [
        "#plotting co-relation matrix\n",
        "plt.figure(figsize = (10,10))\n",
        "sns.heatmap(df.corr() , cbar = True , annot = True , cmap ='Blues')"
      ],
      "metadata": {
        "id": "SO2vl-pghbqy"
      },
      "execution_count": null,
      "outputs": []
    },
    {
      "cell_type": "markdown",
      "source": [
        "**Possitive Correlation**\n",
        "\n",
        "Price - avaliability_365 , calculated_host_listings , minimum_nights , host_id\n",
        "\n",
        "minimum_nights - avaliability_365 , calculated_host_listings , price\n",
        "\n",
        "calculated_host_listings - avaliability_365 , minimum_nights , price , host_id\n",
        "\n",
        "\n",
        "\n",
        "\n",
        "\n",
        "\n",
        "\n",
        "\n",
        "\n",
        "\n",
        "\n",
        "**Negative Correlation**\n",
        "\n",
        "price - number_of_reviews\n",
        "\n",
        "minimum_nights - number_of_reviews,host_id\n",
        "\n",
        "number_of_reviews - calculated_host_listings,minimum_nights , host_id"
      ],
      "metadata": {
        "id": "4PwjOvXf7i7-"
      }
    },
    {
      "cell_type": "markdown",
      "source": [
        "**All columns are numerically independent according to the correlation matrix**"
      ],
      "metadata": {
        "id": "JtF7J7YRN6rg"
      }
    },
    {
      "cell_type": "markdown",
      "source": [
        "## **Distribution of categorical columns**"
      ],
      "metadata": {
        "id": "W9U7x1elN_Xo"
      }
    },
    {
      "cell_type": "markdown",
      "source": [
        "## **neighbourhood_group**"
      ],
      "metadata": {
        "id": "_yVIA56tODA_"
      }
    },
    {
      "cell_type": "markdown",
      "source": [
        "Plotting the count plot of different neighbourhod_group"
      ],
      "metadata": {
        "id": "FNdAUG_5OI4a"
      }
    },
    {
      "cell_type": "code",
      "source": [
        "sns.countplot(df['neighbourhood_group'], palette=\"magma\")\n",
        "fig = plt.gcf()\n",
        "fig.set_size_inches(10,10)\n",
        "plt.title('Neighbourhood Group')"
      ],
      "metadata": {
        "id": "hgjITAymOH6K"
      },
      "execution_count": null,
      "outputs": []
    },
    {
      "cell_type": "markdown",
      "source": [
        "*Most of the properties are located in Manhattan and Brooklyn follwed by Queens, Bronx and Staten Island respectively.*"
      ],
      "metadata": {
        "id": "UGy-HOnEOQsn"
      }
    },
    {
      "cell_type": "markdown",
      "source": [
        "## **neighbourhood**"
      ],
      "metadata": {
        "id": "mdfWAZgsOUcv"
      }
    },
    {
      "cell_type": "markdown",
      "source": [
        "**to increase the readability of the neighbourhood count plots ,each plot was created based on their respective neighbourhood_group category**"
      ],
      "metadata": {
        "id": "Y4CPzhPxOYyD"
      }
    },
    {
      "cell_type": "code",
      "source": [
        "for i in df['neighbourhood_group'].unique():\n",
        "\n",
        "  sns.countplot(df[df['neighbourhood_group']== i]['neighbourhood'], palette=\"plasma\")\n",
        "  fig = plt.gcf()\n",
        "  fig.set_size_inches(25,6)\n",
        "  plt.title('Neighbourhood: ' + str(i))\n",
        "  plt.tick_params(axis='x', rotation=90)\n",
        "  plt.show()"
      ],
      "metadata": {
        "id": "j3ujgUCtNqUd"
      },
      "execution_count": null,
      "outputs": []
    },
    {
      "cell_type": "markdown",
      "source": [
        "## **What are the different room types, neighbourhood groups, and neighbourhood??**"
      ],
      "metadata": {
        "id": "DYpuXb3na4Fe"
      }
    },
    {
      "cell_type": "code",
      "source": [
        "print('Count of different room types :',df['room_type'].nunique())\n",
        "print(pd.unique(df['room_type']))"
      ],
      "metadata": {
        "id": "BInjoDxaB8HP"
      },
      "execution_count": null,
      "outputs": []
    },
    {
      "cell_type": "code",
      "source": [
        "print('Count of different neighbourhood groups types :',df['neighbourhood_group'].nunique())\n",
        "print(pd.unique(df['neighbourhood_group']))"
      ],
      "metadata": {
        "id": "oBxzoi6ybWSn"
      },
      "execution_count": null,
      "outputs": []
    },
    {
      "cell_type": "code",
      "source": [
        "print('Count of different neighbouhoodr types :',df['neighbourhood'].nunique())\n",
        "print(pd.unique(df['neighbourhood']))"
      ],
      "metadata": {
        "id": "9RV9zN4Fb9co"
      },
      "execution_count": null,
      "outputs": []
    },
    {
      "cell_type": "markdown",
      "source": [
        "## Let's check for top 10 hosts "
      ],
      "metadata": {
        "id": "7tW1LY6S7mBe"
      }
    },
    {
      "cell_type": "code",
      "source": [
        "count_host_id = pd.DataFrame(df['host_id'].value_counts())\n",
        "count_host_id = count_host_id.reset_index().rename(columns = {'host_id': 'count', 'index' : 'host_id'})\n",
        "count_host_id.head(10)"
      ],
      "metadata": {
        "id": "ZNBIraAo64cW"
      },
      "execution_count": null,
      "outputs": []
    },
    {
      "cell_type": "code",
      "source": [
        "#plotting top 10 hosts\n",
        "data = count_host_id.head(10)\n",
        "\n",
        "viz_bar = sns.barplot(x= 'host_id', y= 'count', color='g', data=data, order=data.sort_values('count',ascending = False).host_id)\n",
        "viz_bar.set_title('Hosts with most listings')\n",
        "viz_bar.set_xlabel('Host ID')\n",
        "viz_bar.set_ylabel('Count of host listings')\n",
        "plt.tick_params(axis='x', rotation=45)\n",
        "\n",
        "plt.show()"
      ],
      "metadata": {
        "id": "xim_OA0X8LrL"
      },
      "execution_count": null,
      "outputs": []
    },
    {
      "cell_type": "markdown",
      "source": [
        "**Host with host id 219517861 has maximum number of listings with 327 listings**"
      ],
      "metadata": {
        "id": "U31jPkfS8ghe"
      }
    },
    {
      "cell_type": "markdown",
      "source": [
        "## **Let's check for highest listing in the neighbourhood**"
      ],
      "metadata": {
        "id": "h3RmBOt-8yhR"
      }
    },
    {
      "cell_type": "code",
      "source": [
        "count_neighbourhood = pd.DataFrame(df['neighbourhood'].value_counts())\n",
        "count_neighbourhood = count_neighbourhood.reset_index().rename(columns = {'neighbourhood': 'count', 'index' : 'neighbourhood'})\n",
        "count_neighbourhood = count_neighbourhood.merge(df[['neighbourhood', 'neighbourhood_group']].drop_duplicates(keep = 'first'),on = 'neighbourhood', how = 'left')\n",
        "count_neighbourhood[['neighbourhood_group','neighbourhood', 'count']].head(10)"
      ],
      "metadata": {
        "id": "Rarfl7528-ku"
      },
      "execution_count": null,
      "outputs": []
    },
    {
      "cell_type": "code",
      "source": [
        "#plotting highest neighbourhood\n",
        "data = count_neighbourhood[['neighbourhood', 'count']].head(10)\n",
        "\n",
        "viz_bar = sns.barplot(x= 'neighbourhood', y= 'count', color='g', data=data, order=data.sort_values('count',ascending = False).neighbourhood)\n",
        "viz_bar.set_title('Top 10 highest listing neighborhood')\n",
        "viz_bar.set_xlabel('Neighbourhood')\n",
        "viz_bar.set_ylabel('Count of Airbnb')\n",
        "plt.tick_params(axis='x', rotation=45)\n",
        "\n",
        "plt.show()"
      ],
      "metadata": {
        "id": "XN0mDMAP9Cmo"
      },
      "execution_count": null,
      "outputs": []
    },
    {
      "cell_type": "markdown",
      "source": [
        "## **Checking which category of room type has highest number of counts**"
      ],
      "metadata": {
        "id": "x8aerAF-9Slf"
      }
    },
    {
      "cell_type": "code",
      "source": [
        "vc = pd.DataFrame((df['room_type'].value_counts(normalize = True ) * 100) )\n",
        "fig, ax = plt.subplots()\n",
        "labels = vc.index.tolist()\n",
        "percentages = vc.room_type.tolist()\n",
        "explode=(0,0,0.1)\n",
        "ax.pie(percentages,explode = explode, labels = labels,autopct='%1.0f%%')\n",
        "ax.set_title(\"Room Type\")\n",
        "ax.legend(frameon=False, bbox_to_anchor=(1.5,0.8))"
      ],
      "metadata": {
        "id": "w925sWfp8Z9a"
      },
      "execution_count": null,
      "outputs": []
    },
    {
      "cell_type": "markdown",
      "source": [
        "Entire home/apt has highest count followed by private room. \n",
        "\n",
        "Shared room has least number of counts."
      ],
      "metadata": {
        "id": "wioy4xkP94SI"
      }
    },
    {
      "cell_type": "markdown",
      "source": [
        "## **What is the average price based on location and room type??**"
      ],
      "metadata": {
        "id": "yrJutqJh-NLu"
      }
    },
    {
      "cell_type": "code",
      "source": [
        "average_price_df = pd.DataFrame(df.groupby(['neighbourhood_group','room_type'])['price'].mean().unstack())\n",
        "average_price_df"
      ],
      "metadata": {
        "id": "eT0ime80-aLP"
      },
      "execution_count": null,
      "outputs": []
    },
    {
      "cell_type": "code",
      "source": [
        "average_price_df.plot.bar()\n",
        "sns.set(rc={'figure.figsize':(10,8)})\n",
        "plt.show()"
      ],
      "metadata": {
        "id": "h9HobDz0-ebN"
      },
      "execution_count": null,
      "outputs": []
    },
    {
      "cell_type": "markdown",
      "source": [
        "From above plot we can observe that average price for entire home/apt is highest compared to private and shared rooms.\n",
        "\n",
        "However, there is not much difference in price of shared and private rooms."
      ],
      "metadata": {
        "id": "roAnPXX8-jZT"
      }
    },
    {
      "cell_type": "markdown",
      "source": [
        "## **What are the minimum and maximum price in different neighbourhood according to room types**"
      ],
      "metadata": {
        "id": "b7p4vgzz_F6C"
      }
    },
    {
      "cell_type": "code",
      "source": [
        "min_and_max_df = pd.DataFrame(df.groupby(['neighbourhood_group','room_type'])['price'].describe()[['min','max']].unstack())\n",
        "min_and_max_df"
      ],
      "metadata": {
        "id": "FpOiWPM9_e1f"
      },
      "execution_count": null,
      "outputs": []
    },
    {
      "cell_type": "markdown",
      "source": [
        "The min price for entire home / apt as room type in Manhattan and Brooklyn is $10 and maximum goes upto $10000.\n",
        "\n",
        "For each room type the mean price for Manhattan is the most which makes it the most expensive place to stay."
      ],
      "metadata": {
        "id": "u_7e2NCs_liD"
      }
    },
    {
      "cell_type": "markdown",
      "source": [
        "# **Find the total count of each room type according to neighbourhood_group**"
      ],
      "metadata": {
        "id": "vYURP1LQoP3p"
      }
    },
    {
      "cell_type": "code",
      "source": [
        "count_room_type = pd.DataFrame(df.groupby(['neighbourhood_group'])['room_type'].value_counts().unstack())\n",
        "count_room_type"
      ],
      "metadata": {
        "id": "cKVh9xiE_Che"
      },
      "execution_count": null,
      "outputs": []
    },
    {
      "cell_type": "code",
      "source": [
        "count_room_type.plot.bar()\n",
        "plt.show()"
      ],
      "metadata": {
        "id": "dMIftsTD_xuG"
      },
      "execution_count": null,
      "outputs": []
    },
    {
      "cell_type": "markdown",
      "source": [
        "Manhattan has the maximum number of Entire home / apt as room_type and Brooklyn has the maximum number of Private room."
      ],
      "metadata": {
        "id": "zUBfZqOU_7VG"
      }
    },
    {
      "cell_type": "markdown",
      "source": [
        "## what can we learn from predictions ?\n",
        "## locations , prices, reviews, etc..."
      ],
      "metadata": {
        "id": "LfChmskKGJAc"
      }
    },
    {
      "cell_type": "code",
      "source": [
        "areas_reviews = df.groupby(['neighbourhood_group'])['number_of_reviews'].max().reset_index()\n",
        "areas_reviews.sort_values(by='number_of_reviews',ascending=False).head(5)"
      ],
      "metadata": {
        "id": "ItpE2DxrGek0"
      },
      "execution_count": null,
      "outputs": []
    },
    {
      "cell_type": "code",
      "source": [
        "area = areas_reviews['neighbourhood_group']\n",
        "review = areas_reviews['number_of_reviews']\n",
        "\n",
        "fig = plt.figure(figsize=(10,5))\n",
        "\n",
        "\n",
        "plt.bar(area , review , color = 'maroon', width = 0.5)\n",
        "plt.xlabel('AREA')\n",
        "plt.ylabel('REVIEW')\n",
        "plt.title('AREA VS NUMBER OF REVIEWS')\n",
        "plt.show()"
      ],
      "metadata": {
        "id": "9o52QRQgGKGR"
      },
      "execution_count": null,
      "outputs": []
    },
    {
      "cell_type": "code",
      "source": [
        "price_area = df.groupby(['price'])['number_of_reviews'].max().reset_index()\n",
        "price_area.head()"
      ],
      "metadata": {
        "id": "-nGdnBljGl7M"
      },
      "execution_count": null,
      "outputs": []
    },
    {
      "cell_type": "code",
      "source": [
        "area = price_area['price']\n",
        "price = price_area['number_of_reviews']\n",
        "\n",
        "fig = plt.figure(figsize=(10,5))\n",
        "\n",
        "###plotting a graph\n",
        "\n",
        "plt.scatter(area , price , color='blue')\n",
        "\n",
        "plt.xlabel('price')\n",
        "plt.ylabel('Number of reviews')\n",
        "plt.title('PRICE VS NUMBER OF REVIEWS')\n",
        "plt.show()\n"
      ],
      "metadata": {
        "id": "hPwch3YUGpWG"
      },
      "execution_count": null,
      "outputs": []
    },
    {
      "cell_type": "markdown",
      "source": [
        "From the above analysis we can say that most people prefer to stay in place where price is less"
      ],
      "metadata": {
        "id": "pEXe9eVpGtuH"
      }
    },
    {
      "cell_type": "markdown",
      "source": [
        "## **lets look at the distribution of the listings with availability.**"
      ],
      "metadata": {
        "id": "dHS17XhCGxjD"
      }
    },
    {
      "cell_type": "code",
      "source": [
        "availability_type=df.groupby(['neighbourhood_group','room_type'])['availability_365'].max().reset_index()\n",
        "availability_type=availability_type.sort_values(by='availability_365',ascending=False).head(10)\n",
        "availability_type"
      ],
      "metadata": {
        "id": "uYttn5TjGunl"
      },
      "execution_count": null,
      "outputs": []
    },
    {
      "cell_type": "markdown",
      "source": [
        "# **Find the relationship between neighbourhood group and availability of rooms**"
      ],
      "metadata": {
        "id": "XX-BYzJinzkd"
      }
    },
    {
      "cell_type": "code",
      "source": [
        "avalaibilty_df = pd.DataFrame(df.groupby(['neighbourhood_group','room_type'])['availability_365'].median().unstack()).astype('int')\n",
        "avalaibilty_df"
      ],
      "metadata": {
        "id": "Lcb8k0Di_8JQ"
      },
      "execution_count": null,
      "outputs": []
    },
    {
      "cell_type": "code",
      "source": [
        "avalaibilty_df.plot.bar()\n",
        "plt.show()"
      ],
      "metadata": {
        "id": "Z4tqyKgmAF10"
      },
      "execution_count": null,
      "outputs": []
    },
    {
      "cell_type": "markdown",
      "source": [
        "The avalaibilty of all room types is relatively low in Manhattan hence we can say that it is the most occupied neighborhood of NYC"
      ],
      "metadata": {
        "id": "7tVJif_kALZB"
      }
    },
    {
      "cell_type": "markdown",
      "source": [
        "## Wordcloud : To find the most used words in name of listings."
      ],
      "metadata": {
        "id": "Gl3ccRKhDNKM"
      }
    },
    {
      "cell_type": "code",
      "source": [
        "# joining all the name of listings to form a string\n",
        "text =  df['name'].str.cat(sep=' ')"
      ],
      "metadata": {
        "id": "JmlObYzHYYcd"
      },
      "execution_count": null,
      "outputs": []
    },
    {
      "cell_type": "code",
      "source": [
        "# remowing the stop words\n",
        "import re\n",
        "txt = re.sub('[^A-Za-z ]+', ' ', text)\n",
        "txt = \" \".join(txt.split())"
      ],
      "metadata": {
        "id": "zMReMtJ-DV3M"
      },
      "execution_count": null,
      "outputs": []
    },
    {
      "cell_type": "code",
      "source": [
        "plt.subplots(figsize=(15,15))\n",
        "wordcloud = WordCloud(\n",
        "                          background_color='white',\n",
        "                          width=1920,\n",
        "                          height=1080\n",
        "                         ).generate(txt)\n",
        "plt.imshow(wordcloud)\n",
        "plt.axis('off')\n",
        "plt.savefig('neighbourhood.png')\n",
        "plt.show()"
      ],
      "metadata": {
        "id": "msGppcokDZE6"
      },
      "execution_count": null,
      "outputs": []
    },
    {
      "cell_type": "markdown",
      "source": [
        "## **Conclusions**"
      ],
      "metadata": {
        "id": "soU5jB2_z4su"
      }
    },
    {
      "cell_type": "markdown",
      "source": [
        "* Manhattan is the most spread area in New York for hosting.\n",
        "* The most popular room type is 'Entire home/apt,' with 52 percent of listings, and the least popular is 'Shared Room,' with only 2.4 percent of listings.\n",
        "* The average price for an entire home/apt is the highest, but there is no notable difference between the pricing of a Shared room and a Private Room in most of the neighborhood groups. \n",
        "* In every neighbourhood, people stay in the entire home / apt room type for longer periods of time.\n",
        "* Since the avalaibilty of Entire home/apt and Private room is relatively low in Manhatttan new hosts should invest in these room type.\n",
        "* The properties are usually described in the listing's name."
      ],
      "metadata": {
        "id": "MMYeecjez1wP"
      }
    }
  ]
}